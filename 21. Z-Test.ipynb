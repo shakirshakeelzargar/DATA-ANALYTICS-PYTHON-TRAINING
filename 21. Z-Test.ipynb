{
 "cells": [
  {
   "cell_type": "code",
   "execution_count": 10,
   "metadata": {},
   "outputs": [
    {
     "name": "stdout",
     "output_type": "stream",
     "text": [
      "(16.177354542693315, 7.2858309696163265e-59)\n",
      "p-value is: 7.2858309696163265e-59\n",
      "\n"
     ]
    }
   ],
   "source": [
    "# Demonstrating significant differences between a\n",
    "# vector of measurements and a single value\n",
    "# Using the statsmodels package for doing test\n",
    "\n",
    "from statsmodels.stats import weightstats as stests\n",
    "import numpy as np\n",
    "\n",
    "ls=range(1,100)\n",
    "data=np.asarray(ls)\n",
    "\n",
    "#data=np.random.normal(size=100)\n",
    "singleValue=3.3\n",
    "\n",
    "# Assuming data are normally distributed, we can do z-test\n",
    "testResult=stests.ztest(data,value=singleValue)\n",
    "print(testResult)\n",
    "pValue=testResult[1]\n",
    "print(\"p-value is: \"+str(pValue))\n",
    "print(\"\")"
   ]
  },
  {
   "cell_type": "code",
   "execution_count": null,
   "metadata": {},
   "outputs": [],
   "source": []
  }
 ],
 "metadata": {
  "kernelspec": {
   "display_name": "Python 3",
   "language": "python",
   "name": "python3"
  },
  "language_info": {
   "codemirror_mode": {
    "name": "ipython",
    "version": 3
   },
   "file_extension": ".py",
   "mimetype": "text/x-python",
   "name": "python",
   "nbconvert_exporter": "python",
   "pygments_lexer": "ipython3",
   "version": "3.6.3"
  }
 },
 "nbformat": 4,
 "nbformat_minor": 2
}
